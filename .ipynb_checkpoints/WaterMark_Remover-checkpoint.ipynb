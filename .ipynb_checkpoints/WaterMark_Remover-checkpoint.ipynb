{
 "cells": [
  {
   "cell_type": "markdown",
   "metadata": {},
   "source": [
    "# Watermark Remover\n",
    "## Padrón Electoral chileno con PyPDF2 + tabula\n",
    "$\\textit{Emilio Ojeda}$"
   ]
  },
  {
   "cell_type": "markdown",
   "metadata": {},
   "source": [
    "## Planteamiento del problema:\n",
    "\n",
    "Recientemente, SERVEL ha incorporado la siguiente marca de agua en el Padrón Electoral chileno:\n",
    "\n",
    "<img src = \"images/WaterMark.png\">\n",
    "\n",
    "La presencia de esta marca de agua, vuelve muy compleja la extracción de la información contenida en el padrón electoral, por lo que realizar análisis sobre estos datos queda supeditado al uso de programas especiales para la extracción de las marcas de agua.\n",
    "\n",
    "Este cuaderno tiene como objetivo remover esta marca de agua, para eso haremos uso de las librerías: PyPDF2 y pikepdf para el tratamiento de la información contenida en el archivo pdf, y por otra parte tabula y pandas para la extracción de las tablas, almacenaje y la creación de un archivo csv.\n",
    "\n",
    "Este cuaderno considera la interacción con el usuario, y puede ser empleado en otros contextos distintos al padrón electoral.\n",
    "\n",
    "Como modelo de juguete, se ha generado un padrón \"file_test.pdf\" sin nombres reales ni ruts. Pero usted puede acceder al padrón de las elecciones 2021 en el siguiente link: \n",
    "https://www.servel.cl/padron-electoral-definitivo-y-nomina-de-inhabilitados-3/"
   ]
  },
  {
   "cell_type": "markdown",
   "metadata": {},
   "source": [
    "## Librerías\n",
    "pikepdf se emplea para abrir algunos archivos pdf con cierta encriptación no disponible aún en PyPDF2.\n",
    "\n",
    "PyPDF2 se utiliza para abrir los archivos, eliminar la información no deseada y luego escribir un archivo de salida sin marca de agua.\n",
    "\n",
    "tqdm ayuda a visualizar los tiempos de cada iteración y el progreso del programa."
   ]
  },
  {
   "cell_type": "code",
   "execution_count": 1,
   "metadata": {},
   "outputs": [],
   "source": [
    "import PyPDF2\n",
    "import pikepdf\n",
    "from tqdm import tqdm"
   ]
  },
  {
   "cell_type": "markdown",
   "metadata": {},
   "source": [
    "Introducimos el nombre del archivo"
   ]
  },
  {
   "cell_type": "code",
   "execution_count": 2,
   "metadata": {},
   "outputs": [],
   "source": [
    "pdftitle = 'file_test'"
   ]
  },
  {
   "cell_type": "markdown",
   "metadata": {},
   "source": [
    "1) Abrimos el archivo \"file_test.pdf\" con o sin contraseña.\n",
    "\n",
    "2) Para el caso particular del padrón electoral chileno, solo presione Enter.\n",
    "\n",
    "3) Los archivos con contraseña, se duplicarán en un archivo sin contraseña llamado \"file_test_decrypted.pdf\"\n",
    "\n",
    "4) Calculamos el número total de páginas del archivo."
   ]
  },
  {
   "cell_type": "code",
   "execution_count": 3,
   "metadata": {},
   "outputs": [],
   "source": [
    "if PyPDF2.PdfFileReader(open(f'{pdftitle}.pdf', \"rb\")).isEncrypted:\n",
    "    print('Enter the password:')\n",
    "    password = input()\n",
    "    pdf = pikepdf.Pdf.open(f'{pdftitle}.pdf', password = password)\n",
    "    pdf.save(f'{pdftitle}_decrypted.pdf')\n",
    "    pdf = PyPDF2.PdfFileReader(open(f'{pdftitle}_decrypted.pdf', \"rb\"))\n",
    "else:\n",
    "    pdf = PyPDF2.PdfFileReader(open(f'{pdftitle}.pdf', \"rb\"))\n",
    "    \n",
    "npages = int(pdf.getNumPages())"
   ]
  },
  {
   "cell_type": "markdown",
   "metadata": {},
   "source": [
    "## Contenido del archivo pdf\n",
    "Mostramos el contenido de cada objeto en el archivo pdf.\n",
    "\n",
    "Para realizar esta operación se debe indicar cuantos elementos desea revisar, esto es para limitar el espacio.\n",
    "\n",
    "En este punto se debe observar el número de la linea que contiene la marca de agua que se desea eliminar, explore de forma cuidadosa. \n",
    "\n",
    "fila ([WaterMark], b'Tj')"
   ]
  },
  {
   "cell_type": "code",
   "execution_count": 4,
   "metadata": {},
   "outputs": [
    {
     "name": "stdout",
     "output_type": "stream",
     "text": [
      "Introducir la cantidad de filas que desea revisar:\n",
      "40\n",
      "\n",
      "\n",
      "6 ([' PADRÓN AUDITADO ELECCIONES DE GOBERNADORES REGIONALES, CONVENCIONALES CONSTITUYENTES, ALCALDES Y CONCEJALES 2021 COMUNA DE PIRQUE , REGIÓN METROPOLITANA DE SANTIAGO'], b'Tj')\n",
      "12 ([' PADRÓN AUDITADO ELECCIONES DE GOBERNADORES REGIONALES, CONVENCIONALES CONSTITUYENTES, ALCALDES Y CONCEJALES 2021 COMUNA DE PIRQUE , REGIÓN METROPOLITANA DE SANTIAGO'], b'Tj')\n",
      "18 ([' PADRÓN AUDITADO ELECCIONES DE GOBERNADORES REGIONALES, CONVENCIONALES CONSTITUYENTES, ALCALDES Y CONCEJALES 2021 COMUNA DE PIRQUE , REGIÓN METROPOLITANA DE SANTIAGO'], b'Tj')\n",
      "24 ([' PADRÓN AUDITADO ELECCIONES DE GOBERNADORES REGIONALES, CONVENCIONALES CONSTITUYENTES, ALCALDES Y CONCEJALES 2021 COMUNA DE PIRQUE , REGIÓN METROPOLITANA DE SANTIAGO'], b'Tj')\n",
      "30 ([' PADRÓN AUDITADO ELECCIONES DE GOBERNADORES REGIONALES, CONVENCIONALES CONSTITUYENTES, ALCALDES Y CONCEJALES 2021 COMUNA DE PIRQUE , REGIÓN METROPOLITANA DE SANTIAGO'], b'Tj')\n",
      "36 ([' PADRÓN AUDITADO ELECCIONES DE GOBERNADORES REGIONALES, CONVENCIONALES CONSTITUYENTES, ALCALDES Y CONCEJALES 2021 COMUNA DE PIRQUE , REGIÓN METROPOLITANA DE SANTIAGO'], b'Tj')\n",
      "Wall time: 4.79 s\n"
     ]
    }
   ],
   "source": [
    "%%time\n",
    "\n",
    "print('Introducir la cantidad de filas que desea revisar:')\n",
    "stop = int(input())\n",
    "page0 = pdf.getPage(0) \n",
    "content0 = PyPDF2.pdf.ContentStream(page0['/Contents'].getObject(), pdf)\n",
    "print('\\n')\n",
    "for i, b in enumerate(content0.operations):\n",
    "    if b[1]==b'Tj' and i<stop:\n",
    "        print(i, b)"
   ]
  },
  {
   "cell_type": "markdown",
   "metadata": {},
   "source": [
    "## Definición de la Marca de Agua\n",
    "\n",
    "En el paso anterior se identificaron las marcas de aguas.\n",
    "\n",
    "Ahora introducimos el número total de marcas de agua diferentes y luego ingresamos el número de las filas donde están contenidas."
   ]
  },
  {
   "cell_type": "code",
   "execution_count": 5,
   "metadata": {},
   "outputs": [
    {
     "name": "stdout",
     "output_type": "stream",
     "text": [
      "Introducir el número total de marcas de agua diferentes:\n",
      "1\n",
      "\n",
      "\n",
      "Introducir el número de la fila en donde aparece la 1° marca de agua:\n",
      "6\n",
      "\n",
      "\n",
      "La marca de agua corresponde a:\n"
     ]
    },
    {
     "data": {
      "text/plain": [
       "[[' PADRÓN AUDITADO ELECCIONES DE GOBERNADORES REGIONALES, CONVENCIONALES CONSTITUYENTES, ALCALDES Y CONCEJALES 2021 COMUNA DE PIRQUE , REGIÓN METROPOLITANA DE SANTIAGO']]"
      ]
     },
     "execution_count": 5,
     "metadata": {},
     "output_type": "execute_result"
    }
   ],
   "source": [
    "print('Introducir el número total de marcas de agua diferentes:')\n",
    "total_num = int(input());\n",
    "water_mark = []\n",
    "for i in range(0,total_num):\n",
    "    print('\\n')\n",
    "    print(f'Introducir el número de la fila en donde aparece la {i+1}° marca de agua:')\n",
    "    row_wm = int(input());\n",
    "    wm = content0.operations[row_wm][0]\n",
    "    water_mark.append(wm)\n",
    "print('\\n')\n",
    "print('La marca de agua corresponde a:')\n",
    "water_mark"
   ]
  },
  {
   "cell_type": "markdown",
   "metadata": {},
   "source": [
    "# Removiendo las marcas de agua: Etapa de prueba\n",
    "\n",
    "Probamos con una cantidad reducida de páginas para verificar que nuestra elección elimina completamente el texto no deseado. \n",
    "\n",
    "Este paso es conveniente siempre y cuando el pdf tenga la marca distribuida de manera uniforme en todas sus hojas."
   ]
  },
  {
   "cell_type": "code",
   "execution_count": 6,
   "metadata": {},
   "outputs": [
    {
     "name": "stderr",
     "output_type": "stream",
     "text": [
      "100%|████████████████████████████████████████████████████████████████████████████████████| 2/2 [00:06<00:00,  3.04s/it]\n"
     ]
    }
   ],
   "source": [
    "output_test = PyPDF2.PdfFileWriter()\n",
    "outputStream_test = open(f'{pdftitle}_output.pdf', \"wb\")\n",
    "\n",
    "page_test = 2    #Modificar\n",
    "\n",
    "for i in tqdm(range(0, page_test, 1)):\n",
    "    page = pdf.getPage(i)\n",
    "    content = PyPDF2.pdf.ContentStream(page['/Contents'].getObject(), pdf)\n",
    "    new_content_op = [(operands, operator) for (operands, operator) in content.operations if operands not in water_mark]\n",
    "    content.operations = new_content_op\n",
    "    page.__setitem__(PyPDF2.generic.NameObject('/Contents'), content)\n",
    "    page.compressContentStreams()\n",
    "    output_test.addPage(page)\n",
    "\n",
    "output_test.write(outputStream_test)\n",
    "del outputStream_test"
   ]
  },
  {
   "cell_type": "markdown",
   "metadata": {},
   "source": [
    "# Removiendo las marcas de agua: Etapa Final\n",
    "\n",
    "Revisamos el archivo 'file_test_output.pdf' y verificamos que la marca de agua haya desaparecido por completo.\n",
    "\n",
    "Si es así, aplicamos el programa sobre el pdf completo. Si no, repetimos los pasos anteriores hasta obtener el resultado que deseamos."
   ]
  },
  {
   "cell_type": "code",
   "execution_count": 7,
   "metadata": {},
   "outputs": [
    {
     "name": "stderr",
     "output_type": "stream",
     "text": [
      "100%|████████████████████████████████████████████████████████████████████████████████████| 3/3 [00:05<00:00,  1.71s/it]\n"
     ]
    }
   ],
   "source": [
    "output = PyPDF2.PdfFileWriter()\n",
    "outputStream = open(f'{pdftitle}_output_final.pdf', \"wb\")\n",
    "\n",
    "for i in tqdm(range(0, npages, 1)):\n",
    "    page = pdf.getPage(i)\n",
    "    content = PyPDF2.pdf.ContentStream(page['/Contents'].getObject(), pdf)\n",
    "    new_content_op = [(operands, operator) for (operands, operator) in content.operations if operands not in water_mark]\n",
    "    content.operations = new_content_op\n",
    "    page.__setitem__(PyPDF2.generic.NameObject('/Contents'), content)\n",
    "    page.compressContentStreams()\n",
    "    output.addPage(page)\n",
    "\n",
    "output.write(outputStream)\n",
    "del outputStream"
   ]
  },
  {
   "cell_type": "markdown",
   "metadata": {},
   "source": [
    "# Resultado\n",
    "<img src = \"images/WaterMark_Removed.png\">"
   ]
  },
  {
   "cell_type": "markdown",
   "metadata": {},
   "source": [
    "## Extraemos la información y la guardamos como .csv\n",
    "Mediante la librería tabula, extraemos las tablas que contiene la información de cada elector.\n",
    "\n",
    "Se debe establecer el área en donde está alojada la tabla. (Un método es abrir el pdf con SumatraPDF, presionar la letra m y verificar la posición del cursor)"
   ]
  },
  {
   "cell_type": "code",
   "execution_count": 8,
   "metadata": {},
   "outputs": [],
   "source": [
    "import pandas as pd \n",
    "import tabula"
   ]
  },
  {
   "cell_type": "code",
   "execution_count": 9,
   "metadata": {},
   "outputs": [
    {
     "name": "stdout",
     "output_type": "stream",
     "text": [
      "Wall time: 1.6 s\n"
     ]
    }
   ],
   "source": [
    "%%time\n",
    "\n",
    "df = tabula.read_pdf(f'{pdftitle}_output_final.pdf', pages = 'all', guess=False, area = (66,16,605,776))\n",
    "df = df[df['NOMBRE'] !='NOMBRE']\n",
    "df.to_csv(f'{pdftitle}_final.csv', index=False)"
   ]
  },
  {
   "cell_type": "code",
   "execution_count": 10,
   "metadata": {},
   "outputs": [
    {
     "data": {
      "text/html": [
       "<div>\n",
       "<style scoped>\n",
       "    .dataframe tbody tr th:only-of-type {\n",
       "        vertical-align: middle;\n",
       "    }\n",
       "\n",
       "    .dataframe tbody tr th {\n",
       "        vertical-align: top;\n",
       "    }\n",
       "\n",
       "    .dataframe thead th {\n",
       "        text-align: right;\n",
       "    }\n",
       "</style>\n",
       "<table border=\"1\" class=\"dataframe\">\n",
       "  <thead>\n",
       "    <tr style=\"text-align: right;\">\n",
       "      <th></th>\n",
       "      <th>NOMBRE</th>\n",
       "      <th>C.IDENTIDAD</th>\n",
       "      <th>SEXO</th>\n",
       "      <th>DOMICILIO ELECTORAL</th>\n",
       "      <th>CIRCUNSCRIPCIÓN</th>\n",
       "      <th>MESA</th>\n",
       "      <th>PUEBLO INDÍGENA</th>\n",
       "    </tr>\n",
       "  </thead>\n",
       "  <tbody>\n",
       "    <tr>\n",
       "      <th>0</th>\n",
       "      <td>NNNNNNNN NNNNNNNN AAAAAAAA AAAAAAAA</td>\n",
       "      <td>00.000.000-K</td>\n",
       "      <td>VARON</td>\n",
       "      <td>VIRGINIA SUBERCASEAUX 1650 B</td>\n",
       "      <td>PIRQUE</td>\n",
       "      <td>15 V</td>\n",
       "      <td>NaN</td>\n",
       "    </tr>\n",
       "    <tr>\n",
       "      <th>1</th>\n",
       "      <td>NNNNNNNN NNNNNNNN AAAAAAAA AAAAAAAA</td>\n",
       "      <td>00.000.000-K</td>\n",
       "      <td>MUJER</td>\n",
       "      <td>AV V SUBERCASEAUX SN</td>\n",
       "      <td>PIRQUE</td>\n",
       "      <td>8 M</td>\n",
       "      <td>NaN</td>\n",
       "    </tr>\n",
       "    <tr>\n",
       "      <th>2</th>\n",
       "      <td>NNNNNNNN NNNNNNNN AAAAAAAA AAAAAAAA</td>\n",
       "      <td>00.000.000-K</td>\n",
       "      <td>MUJER</td>\n",
       "      <td>EL CRUCERAL S/N AV V SUBERCASEAUX</td>\n",
       "      <td>PIRQUE</td>\n",
       "      <td>6 M</td>\n",
       "      <td>NaN</td>\n",
       "    </tr>\n",
       "    <tr>\n",
       "      <th>3</th>\n",
       "      <td>NNNNNNNN NNNNNNNN AAAAAAAA AAAAAAAA</td>\n",
       "      <td>00.000.000-K</td>\n",
       "      <td>MUJER</td>\n",
       "      <td>RAMON SUBERCASEAUX 2725 HUINGAN</td>\n",
       "      <td>PIRQUE</td>\n",
       "      <td>14 M</td>\n",
       "      <td>NaN</td>\n",
       "    </tr>\n",
       "    <tr>\n",
       "      <th>4</th>\n",
       "      <td>NNNNNNNN NNNNNNNN AAAAAAAA AAAAAAAA</td>\n",
       "      <td>00.000.000-K</td>\n",
       "      <td>VARON</td>\n",
       "      <td>CARLOS VIAL INFANTE PARCELA 5 LOTE 11 EL LLANO</td>\n",
       "      <td>PIRQUE</td>\n",
       "      <td>30</td>\n",
       "      <td>NaN</td>\n",
       "    </tr>\n",
       "    <tr>\n",
       "      <th>...</th>\n",
       "      <td>...</td>\n",
       "      <td>...</td>\n",
       "      <td>...</td>\n",
       "      <td>...</td>\n",
       "      <td>...</td>\n",
       "      <td>...</td>\n",
       "      <td>...</td>\n",
       "    </tr>\n",
       "    <tr>\n",
       "      <th>252</th>\n",
       "      <td>NNNNNNNN NNNNNNNN AAAAAAAA AAAAAAAA</td>\n",
       "      <td>00.000.000-K</td>\n",
       "      <td>MUJER</td>\n",
       "      <td>ORILLA DE RIO PR 4 1/2 PC 1-A EL CLARILLO</td>\n",
       "      <td>PIRQUE</td>\n",
       "      <td>36</td>\n",
       "      <td>NaN</td>\n",
       "    </tr>\n",
       "    <tr>\n",
       "      <th>253</th>\n",
       "      <td>NNNNNNNN NNNNNNNN AAAAAAAA AAAAAAAA</td>\n",
       "      <td>00.000.000-K</td>\n",
       "      <td>MUJER</td>\n",
       "      <td>EMILIANA SUBERCASEAUX 305 SAN RAMON</td>\n",
       "      <td>PIRQUE</td>\n",
       "      <td>30</td>\n",
       "      <td>NaN</td>\n",
       "    </tr>\n",
       "    <tr>\n",
       "      <th>254</th>\n",
       "      <td>NNNNNNNN NNNNNNNN AAAAAAAA AAAAAAAA</td>\n",
       "      <td>00.000.000-K</td>\n",
       "      <td>VARON</td>\n",
       "      <td>SITIO 3 SAN VICENTE</td>\n",
       "      <td>EL PRINCIPAL</td>\n",
       "      <td>3</td>\n",
       "      <td>NaN</td>\n",
       "    </tr>\n",
       "    <tr>\n",
       "      <th>255</th>\n",
       "      <td>NNNNNNNN NNNNNNNN AAAAAAAA AAAAAAAA</td>\n",
       "      <td>00.000.000-K</td>\n",
       "      <td>MUJER</td>\n",
       "      <td>LA RINCONADA DE PRINCIPAL PARCELA 85</td>\n",
       "      <td>PIRQUE</td>\n",
       "      <td>12 V</td>\n",
       "      <td>MAPUCHE</td>\n",
       "    </tr>\n",
       "    <tr>\n",
       "      <th>256</th>\n",
       "      <td>NNNNNNNN NNNNNNNN AAAAAAAA AAAAAAAA</td>\n",
       "      <td>00.000.000-K</td>\n",
       "      <td>MUJER</td>\n",
       "      <td>AV. EL GOLF PARCELA 1104 1104 VALLE DEL PRINCIPAL</td>\n",
       "      <td>EL PRINCIPAL</td>\n",
       "      <td>16</td>\n",
       "      <td>NaN</td>\n",
       "    </tr>\n",
       "  </tbody>\n",
       "</table>\n",
       "<p>255 rows × 7 columns</p>\n",
       "</div>"
      ],
      "text/plain": [
       "                                  NOMBRE   C.IDENTIDAD   SEXO  \\\n",
       "0    NNNNNNNN NNNNNNNN AAAAAAAA AAAAAAAA  00.000.000-K  VARON   \n",
       "1    NNNNNNNN NNNNNNNN AAAAAAAA AAAAAAAA  00.000.000-K  MUJER   \n",
       "2    NNNNNNNN NNNNNNNN AAAAAAAA AAAAAAAA  00.000.000-K  MUJER   \n",
       "3    NNNNNNNN NNNNNNNN AAAAAAAA AAAAAAAA  00.000.000-K  MUJER   \n",
       "4    NNNNNNNN NNNNNNNN AAAAAAAA AAAAAAAA  00.000.000-K  VARON   \n",
       "..                                   ...           ...    ...   \n",
       "252  NNNNNNNN NNNNNNNN AAAAAAAA AAAAAAAA  00.000.000-K  MUJER   \n",
       "253  NNNNNNNN NNNNNNNN AAAAAAAA AAAAAAAA  00.000.000-K  MUJER   \n",
       "254  NNNNNNNN NNNNNNNN AAAAAAAA AAAAAAAA  00.000.000-K  VARON   \n",
       "255  NNNNNNNN NNNNNNNN AAAAAAAA AAAAAAAA  00.000.000-K  MUJER   \n",
       "256  NNNNNNNN NNNNNNNN AAAAAAAA AAAAAAAA  00.000.000-K  MUJER   \n",
       "\n",
       "                                   DOMICILIO ELECTORAL CIRCUNSCRIPCIÓN  MESA  \\\n",
       "0                         VIRGINIA SUBERCASEAUX 1650 B          PIRQUE  15 V   \n",
       "1                                 AV V SUBERCASEAUX SN          PIRQUE   8 M   \n",
       "2                    EL CRUCERAL S/N AV V SUBERCASEAUX          PIRQUE   6 M   \n",
       "3                      RAMON SUBERCASEAUX 2725 HUINGAN          PIRQUE  14 M   \n",
       "4       CARLOS VIAL INFANTE PARCELA 5 LOTE 11 EL LLANO          PIRQUE    30   \n",
       "..                                                 ...             ...   ...   \n",
       "252          ORILLA DE RIO PR 4 1/2 PC 1-A EL CLARILLO          PIRQUE    36   \n",
       "253                EMILIANA SUBERCASEAUX 305 SAN RAMON          PIRQUE    30   \n",
       "254                                SITIO 3 SAN VICENTE    EL PRINCIPAL     3   \n",
       "255               LA RINCONADA DE PRINCIPAL PARCELA 85          PIRQUE  12 V   \n",
       "256  AV. EL GOLF PARCELA 1104 1104 VALLE DEL PRINCIPAL    EL PRINCIPAL    16   \n",
       "\n",
       "    PUEBLO INDÍGENA  \n",
       "0               NaN  \n",
       "1               NaN  \n",
       "2               NaN  \n",
       "3               NaN  \n",
       "4               NaN  \n",
       "..              ...  \n",
       "252             NaN  \n",
       "253             NaN  \n",
       "254             NaN  \n",
       "255         MAPUCHE  \n",
       "256             NaN  \n",
       "\n",
       "[255 rows x 7 columns]"
      ]
     },
     "execution_count": 10,
     "metadata": {},
     "output_type": "execute_result"
    }
   ],
   "source": [
    "df"
   ]
  },
  {
   "cell_type": "code",
   "execution_count": null,
   "metadata": {},
   "outputs": [],
   "source": []
  }
 ],
 "metadata": {
  "kernelspec": {
   "display_name": "Python 3",
   "language": "python",
   "name": "python3"
  },
  "language_info": {
   "codemirror_mode": {
    "name": "ipython",
    "version": 3
   },
   "file_extension": ".py",
   "mimetype": "text/x-python",
   "name": "python",
   "nbconvert_exporter": "python",
   "pygments_lexer": "ipython3",
   "version": "3.7.4"
  }
 },
 "nbformat": 4,
 "nbformat_minor": 4
}
